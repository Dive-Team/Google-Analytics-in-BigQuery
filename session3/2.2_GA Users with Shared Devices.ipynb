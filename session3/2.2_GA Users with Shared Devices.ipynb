{
  "nbformat": 4,
  "nbformat_minor": 0,
  "metadata": {
    "colab": {
      "name": "GA Users with Shared Devices",
      "cell_execution_strategy": "setup",
      "provenance": []
    },
    "kernelspec": {
      "name": "python3",
      "display_name": "Python 3"
    },
    "language_info": {
      "name": "python"
    }
  },
  "cells": [
    {
      "cell_type": "markdown",
      "source": [
        "# Visualize Distribution of GA Users with Shared Devices"
      ],
      "metadata": {
        "id": "VI0xLxmm7HBa"
      }
    },
    {
      "cell_type": "code",
      "source": [
        "# With BigQuery DataFrames, you can use many familiar Pandas methods, but the\n",
        "# processing happens BigQuery rather than the runtime, allowing you to work with larger\n",
        "# DataFrames that would otherwise not fit in the runtime memory.\n",
        "# Learn more here: https://cloud.google.com/python/docs/reference/bigframes/latest\n",
        "\n",
        "import bigframes.pandas as bf\n",
        "import seaborn as sns\n",
        "import matplotlib.pyplot as plt\n",
        "\n",
        "bf.options.bigquery.location = \"US\" #this variable is set based on the dataset you chose to query\n",
        "bf.options.bigquery.project = \"df-warehouse\" #this variable is set based on the dataset you chose to query"
      ],
      "metadata": {
        "id": "tJSfAiHycbAj",
        "executionInfo": {
          "status": "ok",
          "timestamp": 1718286813191,
          "user_tz": 240,
          "elapsed": 2886,
          "user": {
            "displayName": "",
            "userId": ""
          }
        }
      },
      "execution_count": 4,
      "outputs": []
    },
    {
      "cell_type": "code",
      "source": [
        "df = bf.read_gbq(\"df-warehouse.df_warehouse_extras.sample_identity_graph\") #this variable is set based on the dataset you chose to query\n",
        "df.head()"
      ],
      "metadata": {
        "id": "fUsQzlgjiA_G",
        "colab": {
          "base_uri": "https://localhost:8080/",
          "height": 360
        },
        "executionInfo": {
          "status": "ok",
          "timestamp": 1718287020843,
          "user_tz": 240,
          "elapsed": 11096,
          "user": {
            "displayName": "",
            "userId": ""
          }
        },
        "outputId": "e803ec7c-8926-4e4e-be2b-2b5ddbfac427"
      },
      "execution_count": 13,
      "outputs": [
        {
          "output_type": "stream",
          "name": "stderr",
          "text": [
            "/usr/local/lib/python3.10/dist-packages/IPython/core/interactiveshell.py:3553: UserWarning: Reading cached table from 2024-06-13 13:53:37.072399+00:00 to avoid incompatibilies with previous reads of this table. To read the latest version, set `use_cache=False` or close the current session with Session.close() or bigframes.pandas.close_session().\n",
            "  exec(code_obj, self.user_global_ns, self.user_ns)\n"
          ]
        },
        {
          "output_type": "display_data",
          "data": {
            "text/plain": [
              "<IPython.core.display.HTML object>"
            ],
            "text/html": [
              "Query job eee30386-a604-4e76-a98d-c12e552330e4 is DONE. 650.9 kB processed. <a target=\"_blank\" href=\"https://console.cloud.google.com/bigquery?project=df-warehouse&j=bq:US:eee30386-a604-4e76-a98d-c12e552330e4&page=queryresults\">Open Job</a>"
            ]
          },
          "metadata": {}
        },
        {
          "output_type": "display_data",
          "data": {
            "text/plain": [
              "<IPython.core.display.HTML object>"
            ],
            "text/html": [
              "Query job fcad6510-7d18-4ad6-9a0a-225864171da0 is DONE. 0 Bytes processed. <a target=\"_blank\" href=\"https://console.cloud.google.com/bigquery?project=df-warehouse&j=bq:US:fcad6510-7d18-4ad6-9a0a-225864171da0&page=queryresults\">Open Job</a>"
            ]
          },
          "metadata": {}
        },
        {
          "output_type": "display_data",
          "data": {
            "text/plain": [
              "<IPython.core.display.HTML object>"
            ],
            "text/html": [
              "Query job 86806d9e-8fb9-49a2-9c72-3b2d0c933ad5 is DONE. 331 Bytes processed. <a target=\"_blank\" href=\"https://console.cloud.google.com/bigquery?project=df-warehouse&j=bq:US:86806d9e-8fb9-49a2-9c72-3b2d0c933ad5&page=queryresults\">Open Job</a>"
            ]
          },
          "metadata": {}
        },
        {
          "output_type": "execute_result",
          "data": {
            "text/plain": [
              "       ig_user_pseudo_id        primary_user_id  shared_users\n",
              "0   830244468.1717980256   830244468.1717980256             0\n",
              "1   265011590.1717557227                1722691             1\n",
              "2  1136709804.1717972743  1136709804.1717972743             0\n",
              "3   979866454.1717932838   979866454.1717932838             0\n",
              "4  1386599220.1717926276  1386599220.1717926276             0\n",
              "\n",
              "[5 rows x 3 columns]"
            ],
            "text/html": [
              "<div>\n",
              "<style scoped>\n",
              "    .dataframe tbody tr th:only-of-type {\n",
              "        vertical-align: middle;\n",
              "    }\n",
              "\n",
              "    .dataframe tbody tr th {\n",
              "        vertical-align: top;\n",
              "    }\n",
              "\n",
              "    .dataframe thead th {\n",
              "        text-align: right;\n",
              "    }\n",
              "</style>\n",
              "<table border=\"1\" class=\"dataframe\">\n",
              "  <thead>\n",
              "    <tr style=\"text-align: right;\">\n",
              "      <th></th>\n",
              "      <th>ig_user_pseudo_id</th>\n",
              "      <th>primary_user_id</th>\n",
              "      <th>shared_users</th>\n",
              "    </tr>\n",
              "  </thead>\n",
              "  <tbody>\n",
              "    <tr>\n",
              "      <th>0</th>\n",
              "      <td>830244468.1717980256</td>\n",
              "      <td>830244468.1717980256</td>\n",
              "      <td>0</td>\n",
              "    </tr>\n",
              "    <tr>\n",
              "      <th>1</th>\n",
              "      <td>265011590.1717557227</td>\n",
              "      <td>1722691</td>\n",
              "      <td>1</td>\n",
              "    </tr>\n",
              "    <tr>\n",
              "      <th>2</th>\n",
              "      <td>1136709804.1717972743</td>\n",
              "      <td>1136709804.1717972743</td>\n",
              "      <td>0</td>\n",
              "    </tr>\n",
              "    <tr>\n",
              "      <th>3</th>\n",
              "      <td>979866454.1717932838</td>\n",
              "      <td>979866454.1717932838</td>\n",
              "      <td>0</td>\n",
              "    </tr>\n",
              "    <tr>\n",
              "      <th>4</th>\n",
              "      <td>1386599220.1717926276</td>\n",
              "      <td>1386599220.1717926276</td>\n",
              "      <td>0</td>\n",
              "    </tr>\n",
              "  </tbody>\n",
              "</table>\n",
              "<p>5 rows × 3 columns</p>\n",
              "</div>[5 rows x 3 columns in total]"
            ]
          },
          "metadata": {},
          "execution_count": 13
        }
      ]
    },
    {
      "cell_type": "code",
      "source": [
        "# set the background style of the plot\n",
        "sns.set_style('whitegrid')\n",
        "sns.histplot(df['shared_users'], color ='red')"
      ],
      "metadata": {
        "colab": {
          "base_uri": "https://localhost:8080/",
          "height": 499
        },
        "id": "JFCfWSFs4CNZ",
        "executionInfo": {
          "status": "ok",
          "timestamp": 1718286968448,
          "user_tz": 240,
          "elapsed": 11896,
          "user": {
            "displayName": "",
            "userId": ""
          }
        },
        "outputId": "0d26d9db-9be0-471a-cd96-995747380fbc"
      },
      "execution_count": 12,
      "outputs": [
        {
          "output_type": "display_data",
          "data": {
            "text/plain": [
              "<IPython.core.display.HTML object>"
            ],
            "text/html": [
              "Query job cf48ccf0-de57-4c38-9d7c-c33f978ec2df is DONE. 0 Bytes processed. <a target=\"_blank\" href=\"https://console.cloud.google.com/bigquery?project=df-warehouse&j=bq:US:cf48ccf0-de57-4c38-9d7c-c33f978ec2df&page=queryresults\">Open Job</a>"
            ]
          },
          "metadata": {}
        },
        {
          "output_type": "display_data",
          "data": {
            "text/plain": [
              "<IPython.core.display.HTML object>"
            ],
            "text/html": [
              "Query job 9cbf200b-844d-4e27-b00a-1b6221721e22 is DONE. 650.9 kB processed. <a target=\"_blank\" href=\"https://console.cloud.google.com/bigquery?project=df-warehouse&j=bq:US:9cbf200b-844d-4e27-b00a-1b6221721e22&page=queryresults\">Open Job</a>"
            ]
          },
          "metadata": {}
        },
        {
          "output_type": "display_data",
          "data": {
            "text/plain": [
              "<IPython.core.display.HTML object>"
            ],
            "text/html": [
              "Query job 5c6a7623-f6a6-4e0f-971b-bedadadd257a is DONE. 650.9 kB processed. <a target=\"_blank\" href=\"https://console.cloud.google.com/bigquery?project=df-warehouse&j=bq:US:5c6a7623-f6a6-4e0f-971b-bedadadd257a&page=queryresults\">Open Job</a>"
            ]
          },
          "metadata": {}
        },
        {
          "output_type": "execute_result",
          "data": {
            "text/plain": [
              "<Axes: ylabel='Count'>"
            ]
          },
          "metadata": {},
          "execution_count": 12
        },
        {
          "output_type": "display_data",
          "data": {
            "text/plain": [
              "<Figure size 640x480 with 1 Axes>"
            ],
            "image/png": "[encoded data removed]"
          },
          "metadata": {}
        }
      ]
    },
    {
      "cell_type": "code",
      "source": [],
      "metadata": {
        "id": "p4ZjzERt4M0L"
      },
      "execution_count": null,
      "outputs": []
    }
  ]
}